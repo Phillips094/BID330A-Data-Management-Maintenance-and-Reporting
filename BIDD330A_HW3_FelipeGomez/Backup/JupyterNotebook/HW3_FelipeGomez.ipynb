{
 "cells": [
  {
   "cell_type": "markdown",
   "id": "1b5c8a0c-6d53-4c40-9b58-1a1841957d7d",
   "metadata": {},
   "source": [
    "# BIDD 330A"
   ]
  },
  {
   "cell_type": "markdown",
   "id": "e7d7a0e9-9685-4be0-af34-a93724d12019",
   "metadata": {},
   "source": [
    "## Jupyter Notebook Homework 3"
   ]
  },
  {
   "cell_type": "markdown",
   "id": "6558b605-6868-4ac2-b210-85641c974c30",
   "metadata": {},
   "source": [
    "### Python ODBC - Test Your Connection"
   ]
  },
  {
   "cell_type": "code",
   "execution_count": 70,
   "id": "f59a8e38-ee45-4426-8c37-66849f024680",
   "metadata": {},
   "outputs": [],
   "source": [
    "import pyodbc \n",
    "import pandas as pd\n",
    "from sqlalchemy import create_engine\n",
    "import matplotlib.pyplot as plt\n",
    "import os\n",
    "import warnings\n",
    "warnings.filterwarnings(\"ignore\", category=DeprecationWarning)\n"
   ]
  },
  {
   "cell_type": "code",
   "execution_count": 71,
   "id": "f594b403-d983-4b5a-acb2-61ed1f1cfec6",
   "metadata": {},
   "outputs": [],
   "source": [
    "import pyodbc \n",
    "conn = pyodbc.connect('DRIVER={SQL Server};SERVER=uwc-studentsql.continuum.uw.edu\\\\uwcbiddsql;DATABASE=Gold_Felipe;UID=fdgomez;PWD=7U_}u4GkZb})')\n",
    "###conn = pyodbc.connect('DRIVER={ODBC Driver 18 for SQL Server};SERVER=test;DATABASE=test;UID=user;PWD=password')\n",
    "cursor = conn.cursor()\n"
   ]
  },
  {
   "cell_type": "markdown",
   "id": "176c1d26-e1fe-4b16-b64e-e54c5a987f71",
   "metadata": {},
   "source": [
    "## Testing Our Connection With Top 10 Queries from our dbo.FactUnemployment and dbo.FactCovid Tables"
   ]
  },
  {
   "cell_type": "code",
   "execution_count": 49,
   "id": "4cf261e1-50c0-4a70-88ea-1794669f3c3a",
   "metadata": {},
   "outputs": [
    {
     "name": "stdout",
     "output_type": "stream",
     "text": [
      "(1, 'Alabama', '2020-01-04', 4578, '2019-12-28', 18523, 1923741, 0.96)\n",
      "(2, 'Alabama', '2020-01-11', 3629, '2020-01-04', 21143, 1923741, 1.1)\n",
      "(3, 'Alabama', '2020-01-18', 2483, '2020-01-11', 17402, 1923741, 0.9)\n",
      "(4, 'Alabama', '2020-01-25', 2129, '2020-01-18', 18390, 1923741, 0.96)\n",
      "(5, 'Alabama', '2020-02-01', 2170, '2020-01-25', 17284, 1923741, 0.9)\n",
      "(6, 'Alabama', '2020-02-08', 2176, '2020-02-01', 16745, 1923741, 0.87)\n",
      "(7, 'Alabama', '2020-02-15', 1981, '2020-02-08', 16571, 1923741, 0.86)\n",
      "(8, 'Alabama', '2020-02-22', 1735, '2020-02-15', 16059, 1923741, 0.83)\n",
      "(9, 'Alabama', '2020-02-29', 1575, '2020-02-22', 14721, 1923741, 0.77)\n",
      "(10, 'Alabama', '2020-03-07', 1663, '2020-02-29', 13657, 1923741, 0.71)\n"
     ]
    }
   ],
   "source": [
    "cursor.execute(\"SELECT TOP 10 * FROM [dbo].[FactUnemployment]\")\n",
    "for i in cursor:\n",
    "    print(i)"
   ]
  },
  {
   "cell_type": "code",
   "execution_count": 51,
   "id": "5c2f0fb2-0a44-4bf2-8bdb-5f2c62abb03f",
   "metadata": {},
   "outputs": [
    {
     "name": "stdout",
     "output_type": "stream",
     "text": [
      "(1, 338995, '2020-01-21', 262, 0, 0, 0, 0, 0, '', '', '', '', 'Worldwide', '', '', '')\n",
      "(2, 338996, '2020-01-22', 313, 51, 0, 0, 0, 0, '', '', '', '', 'Worldwide', '', '', '')\n",
      "(3, 338997, '2020-01-23', 578, 265, 0, 0, 0, 0, '', '', '', '', 'Worldwide', '', '', '')\n",
      "(4, 338998, '2020-01-24', 841, 263, 0, 0, 0, 0, '', '', '', '', 'Worldwide', '', '', '')\n",
      "(5, 338999, '2020-01-25', 1320, 479, 0, 0, 0, 0, '', '', '', '', 'Worldwide', '', '', '')\n",
      "(6, 339000, '2020-01-26', 2014, 694, 0, 0, 0, 0, '', '', '', '', 'Worldwide', '', '', '')\n",
      "(7, 339001, '2020-01-27', 2798, 784, 0, 0, 0, 0, '', '', '', '', 'Worldwide', '', '', '')\n",
      "(8, 339002, '2020-01-28', 4593, 1795, 0, 0, 0, 0, '', '', '', '', 'Worldwide', '', '', '')\n",
      "(9, 339003, '2020-01-29', 6065, 1472, 0, 0, 0, 0, '', '', '', '', 'Worldwide', '', '', '')\n",
      "(10, 339004, '2020-01-30', 7818, 1753, 0, 0, 0, 0, '', '', '', '', 'Worldwide', '', '', '')\n"
     ]
    }
   ],
   "source": [
    "cursor = conn.cursor()\n",
    "cursor.execute('SELECT TOP 10 * FROM [dbo].[FactCovid]')\n",
    "\n",
    "for i in cursor:\n",
    "    print(i)\n"
   ]
  },
  {
   "cell_type": "markdown",
   "id": "96eedabf-edf6-46d3-b83b-97f612f2740e",
   "metadata": {},
   "source": [
    "### Jupyter Magic Command - Allows you to do PIP in Jupyter Notebook (May Need to Uncomment If Needed)"
   ]
  },
  {
   "cell_type": "code",
   "execution_count": 52,
   "id": "97238d46-d23c-4d69-9d76-4bb7e44f671a",
   "metadata": {},
   "outputs": [
    {
     "name": "stdout",
     "output_type": "stream",
     "text": [
      "Requirement already satisfied: ipython-sql in c:\\python\\lib\\site-packages (0.5.0)\n",
      "Requirement already satisfied: prettytable in c:\\python\\lib\\site-packages (from ipython-sql) (3.10.0)\n",
      "Requirement already satisfied: ipython in c:\\python\\lib\\site-packages (from ipython-sql) (8.22.2)\n",
      "Requirement already satisfied: sqlalchemy>=2.0 in c:\\python\\lib\\site-packages (from ipython-sql) (2.0.29)\n",
      "Requirement already satisfied: sqlparse in c:\\python\\lib\\site-packages (from ipython-sql) (0.5.0)\n",
      "Requirement already satisfied: six in c:\\python\\lib\\site-packages (from ipython-sql) (1.16.0)\n",
      "Requirement already satisfied: ipython-genutils in c:\\python\\lib\\site-packages (from ipython-sql) (0.2.0)\n",
      "Requirement already satisfied: typing-extensions>=4.6.0 in c:\\python\\lib\\site-packages (from sqlalchemy>=2.0->ipython-sql) (4.10.0)\n",
      "Requirement already satisfied: greenlet!=0.4.17 in c:\\python\\lib\\site-packages (from sqlalchemy>=2.0->ipython-sql) (3.0.3)\n",
      "Requirement already satisfied: decorator in c:\\python\\lib\\site-packages (from ipython->ipython-sql) (5.1.1)\n",
      "Requirement already satisfied: jedi>=0.16 in c:\\python\\lib\\site-packages (from ipython->ipython-sql) (0.19.1)\n",
      "Requirement already satisfied: matplotlib-inline in c:\\python\\lib\\site-packages (from ipython->ipython-sql) (0.1.6)\n",
      "Requirement already satisfied: prompt-toolkit<3.1.0,>=3.0.41 in c:\\python\\lib\\site-packages (from ipython->ipython-sql) (3.0.43)\n",
      "Requirement already satisfied: pygments>=2.4.0 in c:\\python\\lib\\site-packages (from ipython->ipython-sql) (2.17.2)\n",
      "Requirement already satisfied: stack-data in c:\\python\\lib\\site-packages (from ipython->ipython-sql) (0.6.3)\n",
      "Requirement already satisfied: traitlets>=5.13.0 in c:\\python\\lib\\site-packages (from ipython->ipython-sql) (5.14.2)\n",
      "Requirement already satisfied: colorama in c:\\python\\lib\\site-packages (from ipython->ipython-sql) (0.4.6)\n",
      "Requirement already satisfied: wcwidth in c:\\python\\lib\\site-packages (from prettytable->ipython-sql) (0.2.13)\n",
      "Requirement already satisfied: parso<0.9.0,>=0.8.3 in c:\\python\\lib\\site-packages (from jedi>=0.16->ipython->ipython-sql) (0.8.3)\n",
      "Requirement already satisfied: executing>=1.2.0 in c:\\python\\lib\\site-packages (from stack-data->ipython->ipython-sql) (2.0.1)\n",
      "Requirement already satisfied: asttokens>=2.1.0 in c:\\python\\lib\\site-packages (from stack-data->ipython->ipython-sql) (2.4.1)\n",
      "Requirement already satisfied: pure-eval in c:\\python\\lib\\site-packages (from stack-data->ipython->ipython-sql) (0.2.2)\n"
     ]
    }
   ],
   "source": [
    "#!pip install ipython-sql"
   ]
  },
  {
   "cell_type": "code",
   "execution_count": 53,
   "id": "81968459-8047-4af5-99fb-b57ea2ff7f01",
   "metadata": {},
   "outputs": [
    {
     "name": "stdout",
     "output_type": "stream",
     "text": [
      "Requirement already satisfied: pretty in c:\\python\\lib\\site-packages (0.1)\n"
     ]
    }
   ],
   "source": [
    "#!pip install pretty"
   ]
  },
  {
   "cell_type": "markdown",
   "id": "2e8d5948-0fa7-4522-822f-85f5ad30ae88",
   "metadata": {},
   "source": [
    "### Writing SQL Queries In Pandas Using Our Connection String For Our SQL Server"
   ]
  },
  {
   "cell_type": "code",
   "execution_count": 54,
   "id": "6c2d5c19-3306-4f82-8557-3b34a89530f9",
   "metadata": {},
   "outputs": [
    {
     "name": "stdout",
     "output_type": "stream",
     "text": [
      "                   State  ClaimsYTD\n",
      "0            Puerto Rico     699280\n",
      "1               Illinois    5384119\n",
      "2               Oklahoma    1484331\n",
      "3              Wisconsin    2290597\n",
      "4                  Maine     375573\n",
      "5           Pennsylvania    4976948\n",
      "6          Massachusetts    3019233\n",
      "7                   Ohio    5013617\n",
      "8                Arizona    1689229\n",
      "9                 Oregon    1630600\n",
      "10               Wyoming     161076\n",
      "11             Louisiana    1700458\n",
      "12                Hawaii     729364\n",
      "13         New Hampshire     421329\n",
      "14              Virginia    2137871\n",
      "15              New York    8170657\n",
      "16          South Dakota     115986\n",
      "17   Run Date: 3/22/2024          0\n",
      "18              Maryland    1764926\n",
      "19            California   20574341\n",
      "20              Missouri    1843696\n",
      "21             Minnesota    2050819\n",
      "22  District of Columbia     358711\n",
      "23               Florida    5747124\n",
      "24               Indiana    2144007\n",
      "25                Alaska     483898\n",
      "26              Delaware     323890\n",
      "27            Washington    3260401\n",
      "28          North Dakota     194564\n",
      "29           Connecticut    1340220\n",
      "30                                0\n",
      "31            New Jersey    3580924\n",
      "32              Michigan    3939410\n",
      "33                  Iowa     986778\n",
      "34        North Carolina    2264512\n",
      "35               Vermont     202308\n",
      "36                 Idaho     558144\n",
      "37               Georgia    5883454\n",
      "38              Nebraska     375868\n",
      "39        Virgin Islands      16868\n",
      "40           Mississippi     860599\n",
      "41              Colorado    1258568\n",
      "42                 Texas    7689386\n",
      "43        South Carolina    1238813\n",
      "44         West Virginia     486528\n",
      "45               Montana     373389\n",
      "46                  Utah     577070\n",
      "47               Alabama    1598438\n",
      "48             Tennessee    1705979\n",
      "49          Rhode Island     674323\n",
      "50              Arkansas     763544\n",
      "51                Nevada    1353596\n",
      "52                Kansas     919507\n",
      "53              Kentucky    2066871\n",
      "54            New Mexico     582668\n"
     ]
    },
    {
     "name": "stderr",
     "output_type": "stream",
     "text": [
      "C:\\Users\\Felipe\\AppData\\Local\\Temp\\ipykernel_30628\\3639634750.py:1: UserWarning: pandas only supports SQLAlchemy connectable (engine/connection) or database string URI or sqlite3 DBAPI2 connection. Other DBAPI2 objects are not tested. Please consider using SQLAlchemy.\n",
      "  dataframeUnemployment = pd.read_sql(\"SELECT U.[State], SUM(U.[Initial Claims]) [ClaimsYTD] FROM [dbo].[FactUnemployment] U GROUP BY U.[State];\", conn)\n"
     ]
    }
   ],
   "source": [
    "dataframeUnemployment = pd.read_sql(\"SELECT U.[State], SUM(U.[Initial Claims]) [ClaimsYTD] FROM [dbo].[FactUnemployment] U GROUP BY U.[State];\", conn)\n",
    "print(dataframeUnemployment)\n"
   ]
  },
  {
   "cell_type": "code",
   "execution_count": 57,
   "id": "3841cf90-3b8d-4924-9c3a-a0a224fb417a",
   "metadata": {},
   "outputs": [
    {
     "name": "stdout",
     "output_type": "stream",
     "text": [
      "   FactCovid_Key      ID     Updated  Confirmed  Confirmed_Change  Deaths  \\\n",
      "0              1  338995  2020-01-21        262                 0       0   \n",
      "1              2  338996  2020-01-22        313                51       0   \n",
      "2              3  338997  2020-01-23        578               265       0   \n",
      "3              4  338998  2020-01-24        841               263       0   \n",
      "4              5  338999  2020-01-25       1320               479       0   \n",
      "5              6  339000  2020-01-26       2014               694       0   \n",
      "6              7  339001  2020-01-27       2798               784       0   \n",
      "7              8  339002  2020-01-28       4593              1795       0   \n",
      "8              9  339003  2020-01-29       6065              1472       0   \n",
      "9             10  339004  2020-01-30       7818              1753       0   \n",
      "\n",
      "   Deaths_Change  Recovered  Recovered_Change Latitude Longitude Iso2 Iso3  \\\n",
      "0              0          0                 0                                \n",
      "1              0          0                 0                                \n",
      "2              0          0                 0                                \n",
      "3              0          0                 0                                \n",
      "4              0          0                 0                                \n",
      "5              0          0                 0                                \n",
      "6              0          0                 0                                \n",
      "7              0          0                 0                                \n",
      "8              0          0                 0                                \n",
      "9              0          0                 0                                \n",
      "\n",
      "  Country_Region Admin_Region_1 Iso_Subdivision Admin_Region_2  \n",
      "0      Worldwide                                                \n",
      "1      Worldwide                                                \n",
      "2      Worldwide                                                \n",
      "3      Worldwide                                                \n",
      "4      Worldwide                                                \n",
      "5      Worldwide                                                \n",
      "6      Worldwide                                                \n",
      "7      Worldwide                                                \n",
      "8      Worldwide                                                \n",
      "9      Worldwide                                                \n"
     ]
    },
    {
     "name": "stderr",
     "output_type": "stream",
     "text": [
      "C:\\Users\\Felipe\\AppData\\Local\\Temp\\ipykernel_30628\\1746074442.py:1: UserWarning: pandas only supports SQLAlchemy connectable (engine/connection) or database string URI or sqlite3 DBAPI2 connection. Other DBAPI2 objects are not tested. Please consider using SQLAlchemy.\n",
      "  dataframeCovid = pd.read_sql(\"SELECT TOP 10 * FROM [dbo].[FactCovid];\", conn)\n"
     ]
    }
   ],
   "source": [
    "dataframeCovid = pd.read_sql(\"SELECT TOP 10 * FROM [dbo].[FactCovid];\", conn)\n",
    "print(dataframeCovid)"
   ]
  },
  {
   "cell_type": "code",
   "execution_count": 72,
   "id": "7eb387be-4cb9-4474-8bc6-87aa4f502435",
   "metadata": {},
   "outputs": [
    {
     "name": "stderr",
     "output_type": "stream",
     "text": [
      "C:\\Users\\Felipe\\AppData\\Local\\Temp\\ipykernel_30628\\2061095074.py:1: UserWarning: pandas only supports SQLAlchemy connectable (engine/connection) or database string URI or sqlite3 DBAPI2 connection. Other DBAPI2 objects are not tested. Please consider using SQLAlchemy.\n",
      "  dataframeCovid_InterestingQuery = pd.read_sql(\n"
     ]
    },
    {
     "name": "stdout",
     "output_type": "stream",
     "text": [
      "    Country  Year  MonthName  Month  MaxDeaths\n",
      "0   Germany  2023      March      3     168296\n",
      "1   Germany  2023   February      2     167812\n",
      "2   Germany  2023    January      1     165563\n",
      "3   Germany  2022   December     12     161321\n",
      "4   Germany  2022   November     11     157791\n",
      "5   Germany  2022    October     10     153544\n",
      "6   Germany  2022  September      9     149948\n",
      "7   Germany  2022     August      8     147404\n",
      "8   Germany  2022       July      7     143972\n",
      "9   Germany  2022       June      6     141105\n",
      "10  Germany  2022        May      5     139000\n",
      "11  Germany  2022      April      4     135451\n",
      "12  Germany  2022      March      3     129391\n",
      "13  Germany  2022   February      2     122702\n",
      "14  Germany  2022    January      1     117786\n",
      "15  Germany  2021   December     12     111925\n",
      "16  Germany  2021   November     11     101344\n",
      "17  Germany  2021    October     10      95729\n",
      "18  Germany  2021  September      9      93638\n",
      "19  Germany  2021     August      8      92200\n",
      "20  Germany  2021       July      7      91658\n",
      "21  Germany  2021       June      6      90875\n",
      "22  Germany  2021        May      5      88442\n",
      "23  Germany  2021      April      4      82850\n",
      "24  Germany  2021      March      3      76833\n",
      "25  Germany  2021   February      2      70045\n",
      "26  Germany  2021    January      1      56945\n",
      "27  Germany  2020   December     12      33071\n",
      "28  Germany  2020   November     11      16248\n",
      "29  Germany  2020    October     10      10452\n",
      "30  Germany  2020  September      9       9488\n",
      "31  Germany  2020     August      8       9298\n",
      "32  Germany  2020       July      7       9141\n",
      "33  Germany  2020       June      6       8973\n",
      "34  Germany  2020        May      5       8500\n",
      "35  Germany  2020      April      4       6288\n",
      "36  Germany  2020      March      3        583\n",
      "37  Germany  2020   February      2          0\n",
      "38  Germany  2020    January      1          0\n"
     ]
    }
   ],
   "source": [
    "dataframeCovid_InterestingQuery = pd.read_sql(\n",
    "    \"\"\"SELECT DC.Country, DD.TheYear AS Year, DD.TheMonthName AS MonthName, DD.TheMonth AS Month, MAX(Deaths) AS MaxDeaths\n",
    "    FROM [dbo].[FactCovid] FC LEFT JOIN DimCountry DC ON FC.Country_Region = DC.Country LEFT JOIN DimDates DD ON FC.Updated = DD.TheDate \n",
    "    WHERE DC.Country = 'Germany' AND DD.TheYear IN (2020, 2021, 2022, 2023)\n",
    "    GROUP BY DC.Country, DD.TheYear, DD.TheMonthName, DD.TheMonth \n",
    "    ORDER BY DD.TheYear DESC, DD.TheMonth DESC;\"\"\", conn)\n",
    "print(dataframeCovid_InterestingQuery)"
   ]
  },
  {
   "cell_type": "code",
   "execution_count": 73,
   "id": "8de2cd5c-16e6-409e-a49f-66970614f154",
   "metadata": {},
   "outputs": [],
   "source": [
    "conn.close()"
   ]
  },
  {
   "cell_type": "markdown",
   "id": "b38a9919-e32d-4df2-98be-fc5aae0e9ff1",
   "metadata": {},
   "source": [
    "### Some Fun Python Magic Commands"
   ]
  },
  {
   "cell_type": "code",
   "execution_count": 56,
   "id": "bd50c32d-df0d-405d-b89b-5291ebbe277d",
   "metadata": {},
   "outputs": [
    {
     "name": "stdout",
     "output_type": "stream",
     "text": [
      "Current Working Directory is:  C:\\Users\\Felipe\\OneDrive - UW\\BIDD 330A\\BIDD330A_HW3_FelipeGomez\\JupyterNotebook\n"
     ]
    }
   ],
   "source": [
    "import os\n",
    "cwd = os.getcwd()\n",
    "print('Current Working Directory is: ', cwd)"
   ]
  },
  {
   "cell_type": "code",
   "execution_count": 55,
   "id": "9b68e945-96ce-491f-b395-fe805558a609",
   "metadata": {},
   "outputs": [
    {
     "data": {
      "text/plain": [
       "'C:\\\\Users\\\\Felipe\\\\OneDrive - UW\\\\BIDD 330A\\\\BIDD330A_HW3_FelipeGomez\\\\JupyterNotebook'"
      ]
     },
     "execution_count": 55,
     "metadata": {},
     "output_type": "execute_result"
    }
   ],
   "source": [
    "%pwd"
   ]
  }
 ],
 "metadata": {
  "kernelspec": {
   "display_name": "Python 3",
   "language": "python",
   "name": "python3"
  },
  "language_info": {
   "codemirror_mode": {
    "name": "ipython",
    "version": 3
   },
   "file_extension": ".py",
   "mimetype": "text/x-python",
   "name": "python",
   "nbconvert_exporter": "python",
   "pygments_lexer": "ipython3",
   "version": "3.12.2"
  }
 },
 "nbformat": 4,
 "nbformat_minor": 5
}
